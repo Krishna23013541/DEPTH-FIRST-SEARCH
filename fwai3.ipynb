{
  "nbformat": 4,
  "nbformat_minor": 0,
  "metadata": {
    "colab": {
      "provenance": []
    },
    "kernelspec": {
      "name": "python3",
      "display_name": "Python 3"
    },
    "language_info": {
      "name": "python"
    }
  },
  "cells": [
    {
      "cell_type": "code",
      "execution_count": 4,
      "metadata": {
        "colab": {
          "base_uri": "https://localhost:8080/"
        },
        "id": "q1s0D3KaSHB0",
        "outputId": "678b59c6-5dbe-48d8-a096-dccfa6308b59"
      },
      "outputs": [
        {
          "output_type": "stream",
          "name": "stdout",
          "text": [
            "5 6\n",
            "0 1\n",
            "0 2\n",
            "1 2\n",
            "1 3\n",
            "2 4\n",
            "3 4\n",
            "['0', '1', '2', '3', '4']\n"
          ]
        }
      ],
      "source": [
        "from collections import deque\n",
        "from collections import defaultdict\n",
        "def bfs(graph,start,visited,path):\n",
        "    queue = deque()\n",
        "    path.append(start)\n",
        "    queue.append(start)\n",
        "    visited[start] = True\n",
        "    while len(queue) != 0:\n",
        "        tmpnode = queue.popleft()\n",
        "        for neighbour in graph[tmpnode]:\n",
        "            if visited[neighbour]==False:\n",
        "                path.append(neighbour)\n",
        "                queue.append(neighbour)\n",
        "                visited[neighbour]=True\n",
        "    return path\n",
        "\n",
        "graph = defaultdict(list)\n",
        "v,e = map(int,input().split())\n",
        "for i in range(e):\n",
        "    u,v = map(str,input().split())\n",
        "    graph[u].append(v)\n",
        "    graph[v].append(u)\n",
        "\n",
        "start = '0'\n",
        "path = []\n",
        "visited = defaultdict(bool)\n",
        "traversedpath = bfs(graph,start,visited,path)\n",
        "print(traversedpath)"
      ]
    }
  ]
}